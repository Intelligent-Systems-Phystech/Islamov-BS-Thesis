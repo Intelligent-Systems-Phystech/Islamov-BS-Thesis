{
 "cells": [
  {
   "cell_type": "code",
   "execution_count": 36,
   "metadata": {},
   "outputs": [],
   "source": [
    "%reload_ext autoreload\n",
    "%autoreload 2\n",
    "import numpy as np\n",
    "import matplotlib.pyplot as plt\n",
    "from scipy.stats import bernoulli\n",
    "from oracles import LogReg\n",
    "from methods import Standard_Newton,\\\n",
    "Basic_method, PositiveCase_method, GeneralCase_method\n",
    "from utils import function_plot_builder, bits_plot_builder, bits_plot_builder1\n",
    "from methods import CubicMaxNewton, CubicMaxNewtonP\n",
    "from methods import DINGO, GeneralCase_methodP, PositiveCase_methodP\n",
    "from easydict import EasyDict\n",
    "from methods import diana, adiana, dcgd\n",
    "from utils import loss_logistic, grad"
   ]
  },
  {
   "cell_type": "code",
   "execution_count": 37,
   "metadata": {},
   "outputs": [],
   "source": [
    "np.random.seed(42)"
   ]
  },
  {
   "cell_type": "code",
   "execution_count": 38,
   "metadata": {},
   "outputs": [],
   "source": [
    "dataset_path = './Datasets/a2a.txt'\n",
    "data_name = 'a2a'"
   ]
  },
  {
   "cell_type": "code",
   "execution_count": 39,
   "metadata": {},
   "outputs": [],
   "source": [
    "# regularization parameter\n",
    "lmb = 1e-3"
   ]
  },
  {
   "cell_type": "code",
   "execution_count": 40,
   "metadata": {},
   "outputs": [],
   "source": [
    "# number of nodes, size of local data, and number of weights\n",
    "N = 2265    \n",
    "n = 15         \n",
    "m = 151             \n",
    "d = 123 "
   ]
  },
  {
   "cell_type": "code",
   "execution_count": 41,
   "metadata": {},
   "outputs": [],
   "source": [
    "# data reading\n",
    "b = np.zeros((N,))   \n",
    "A = np.zeros((N, d))\n",
    "\n",
    "f = open(dataset_path, 'r')\n",
    "for i, line in enumerate(f):\n",
    "    if i < N:\n",
    "        line = line.split()\n",
    "        for c in line:\n",
    "            if c == '+1':\n",
    "                b[i] = 1\n",
    "            elif c == '-1':\n",
    "                b[i] = -1\n",
    "            elif c == '\\n':\n",
    "                continue\n",
    "            else:\n",
    "                c = c.split(':')\n",
    "                A[i][int(c[0]) - 1] = float(c[1]) \n",
    "                \n",
    "f.close()"
   ]
  },
  {
   "cell_type": "code",
   "execution_count": 42,
   "metadata": {},
   "outputs": [],
   "source": [
    "# create logistic regression problem\n",
    "logreg = LogReg(A=A, b=b, reg_coef=lmb, n=n, m=m, d=d)"
   ]
  },
  {
   "cell_type": "code",
   "execution_count": null,
   "metadata": {},
   "outputs": [],
   "source": [
    "# find optimal solution using Newton's method\n",
    "SN = Standard_Newton(logreg)\n",
    "SN.find_optimum(np.zeros(d), n_steps=20)\n",
    "x_opt = logreg.get_optimum()"
   ]
  },
  {
   "cell_type": "code",
   "execution_count": 44,
   "metadata": {},
   "outputs": [],
   "source": [
    "# define shift\n",
    "shift = np.ones(d)*0.1"
   ]
  },
  {
   "cell_type": "markdown",
   "metadata": {},
   "source": [
    "## Newton's method"
   ]
  },
  {
   "cell_type": "code",
   "execution_count": 45,
   "metadata": {},
   "outputs": [],
   "source": [
    "# run Newton's method\n",
    "fv_nm, it_nm, bi_nm = SN.method(x_opt+shift, tol=1e-15)"
   ]
  },
  {
   "cell_type": "markdown",
   "metadata": {},
   "source": [
    "## NEWTON-STAR"
   ]
  },
  {
   "cell_type": "code",
   "execution_count": 34,
   "metadata": {},
   "outputs": [],
   "source": [
    "#run NEWTON-STAR\n",
    "BM = Basic_method(oracle=logreg)\n",
    "fv_bm, it_bm, bi_bm = BM.method(x_opt+shift, tol=1e-15)"
   ]
  },
  {
   "cell_type": "markdown",
   "metadata": {},
   "source": [
    "## NEWTON-LEARN 1"
   ]
  },
  {
   "cell_type": "code",
   "execution_count": 46,
   "metadata": {},
   "outputs": [],
   "source": [
    "# run NL1 for random-k with probability p\n",
    "k = 1\n",
    "p = 1/2\n",
    "PCMP = PositiveCase_methodP(logreg)\n",
    "x = x_opt+shift\n",
    "H = []\n",
    "for i in range(n):\n",
    "    H.append(logreg.alphas(x,i))\n",
    "fv_pcm, it_pcm, bi_pcm = PCMP.method(x, H, p=p, k=k, tol=1e-15)"
   ]
  },
  {
   "cell_type": "markdown",
   "metadata": {},
   "source": [
    "## NEWTON-LEARN 2"
   ]
  },
  {
   "cell_type": "code",
   "execution_count": 48,
   "metadata": {},
   "outputs": [],
   "source": [
    "# run NL2 for random-k with probability p\n",
    "k = 1\n",
    "p = 1/2\n",
    "\n",
    "GCMP = GeneralCase_methodP(logreg)\n",
    "x = x_opt+shift\n",
    "H = []\n",
    "for i in range(n):\n",
    "    H.append(logreg.alphas(x,i))\n",
    "fv_gcm, it_gcm, bi_gcm = GCMP.method(x, H, k=k, p=p,\\\n",
    "                                     gamma=1/2,\\\n",
    "                                     max_iter=10000, tol=1e-15)"
   ]
  },
  {
   "cell_type": "markdown",
   "metadata": {},
   "source": [
    "## CUBIC-NEWTON-LEARN"
   ]
  },
  {
   "cell_type": "code",
   "execution_count": 14,
   "metadata": {},
   "outputs": [],
   "source": [
    "# run CNL for random-k with probability p\n",
    "k = 1\n",
    "p = 1/2\n",
    "\n",
    "CNLP = CubicMaxNewtonP(logreg)\n",
    "x = x_opt+shift\n",
    "H = []\n",
    "for i in range(n):\n",
    "    H.append(logreg.alphas(x,i))\n",
    "fv_gcm, it_gcm, bi_gcm = CNLP.method(x, H, k=k, p=p,\\\n",
    "                                     nu=1/8, gamma=1/2,\\\n",
    "                                     max_iter=10, tol=1e-15)"
   ]
  },
  {
   "cell_type": "markdown",
   "metadata": {},
   "source": [
    "## DINGO"
   ]
  },
  {
   "cell_type": "code",
   "execution_count": 15,
   "metadata": {},
   "outputs": [],
   "source": [
    "# run DINGO \n",
    "Dingo = DINGO(logreg)\n",
    "x = x_opt + shift\n",
    "fv_dingo, bi_dingo, cases = Dingo.method(x)"
   ]
  },
  {
   "cell_type": "code",
   "execution_count": null,
   "metadata": {},
   "outputs": [],
   "source": []
  }
 ],
 "metadata": {
  "kernelspec": {
   "display_name": "Python 3",
   "language": "python",
   "name": "python3"
  },
  "language_info": {
   "codemirror_mode": {
    "name": "ipython",
    "version": 3
   },
   "file_extension": ".py",
   "mimetype": "text/x-python",
   "name": "python",
   "nbconvert_exporter": "python",
   "pygments_lexer": "ipython3",
   "version": "3.8.3"
  }
 },
 "nbformat": 4,
 "nbformat_minor": 4
}
