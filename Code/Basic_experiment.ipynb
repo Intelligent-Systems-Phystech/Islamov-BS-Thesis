{
 "cells": [
  {
   "cell_type": "markdown",
   "metadata": {},
   "source": [
    "Подключаем необходимые библиотеки"
   ]
  },
  {
   "cell_type": "code",
   "execution_count": 1,
   "metadata": {},
   "outputs": [],
   "source": [
    "import numpy as np\n",
    "import math\n",
    "import matplotlib.pyplot as plt\n",
    "from sklearn.metrics import accuracy_score\n",
    "from scipy.stats import bernoulli\n",
    "import matplotlib.pyplot as plt\n",
    "import random\n",
    "import pylab\n",
    "import numpy.distutils.system_info as sysinfo\n",
    "import scipy.special\n",
    "from random import randrange\n",
    "import math\n",
    "import sys\n"
   ]
  },
  {
   "cell_type": "markdown",
   "metadata": {},
   "source": [
    "Реализация необходимых функция для проведения базового эксперимента. Эксперимент ставится для логистической регресии. Ниже реализованы функции именно для этой базового эксперимента"
   ]
  },
  {
   "cell_type": "code",
   "execution_count": 3,
   "metadata": {},
   "outputs": [],
   "source": [
    "def f(x): \n",
    "    '''\n",
    "     функция логистической регрессии для всех worker-ов в точке x\n",
    "    '''\n",
    "    ans = 0\n",
    "    for i in range(N):\n",
    "        ans += math.log(1+math.exp(-b[i]*A[i].dot(x)))/N\n",
    "    ans += lmbd/2*np.linalg.norm(x)**2\n",
    "    return ans\n",
    "\n",
    "def Hessian(x, k, j): \n",
    "    '''\n",
    "    функция для вычисления Гессиана в точке x для i-го workera на j-ой точке его датасэта\n",
    "    '''\n",
    "    i = k*m+j\n",
    "    alpha = b[i]**2*math.exp(-b[i]*A[i].dot(x))/(1+math.exp(-b[i]*A[i].dot(x)))**2\n",
    "    ans = lmbd*np.eye(d) + alpha*A[i].reshape((d,1)).dot(A[i].reshape(1,d))\n",
    "    return ans\n",
    "\n",
    "def coef_computation(x, k, j): \n",
    "    '''\n",
    "    функция для вычисления коэффициента, \n",
    "    который стоит перед одноранговой матрицей Гессе для i-го worker-а на j-ой точке его датасэта\n",
    "    '''\n",
    "    i = m*k + j\n",
    "    alpha = b[i]**2*math.exp(-b[i]*A[i].dot(x))/(1+math.exp(-b[i]*A[i].dot(x)))**2\n",
    "    return alpha\n",
    "\n",
    "def gradient(x, k, j): \n",
    "    '''\n",
    "    вычисление градиента для i-го worker-а на j-ой точке его датасэта\n",
    "    '''\n",
    "    i = m*k + j\n",
    "    alpha = -b[i]*math.exp(-b[i]*A[i].dot(x))/(1+math.exp(-b[i]*A[i].dot(x)))\n",
    "    ans = lmbd*x+alpha*A[i]\n",
    "    return ans\n",
    "\n",
    "def coef_comp(x, k, j):\n",
    "    '''\n",
    "    вычисление коэффициента, \n",
    "    который стоит перед градиентом для i-го worker-a \n",
    "    на j-ой точке его датасэта\n",
    "    '''\n",
    "    i = m*k + j\n",
    "    alpha = -b[i]*math.exp(-b[i]*A[i].dot(x))/(1+math.exp(-b[i]*A[i].dot(x)))\n",
    "    return alpha\n",
    "\n"
   ]
  },
  {
   "cell_type": "markdown",
   "metadata": {},
   "source": [
    "Далее идет считывание данных из датасэта a7a. Для успешного запуска данной ячейки нужно наличие файла `a7a.txt` из репозитория с кодом в той же папке, что текущий ноутбук."
   ]
  },
  {
   "cell_type": "code",
   "execution_count": 11,
   "metadata": {},
   "outputs": [],
   "source": [
    "N = 16100            # полное число точек в датасэте\n",
    "n = 100              # число worker-ов\n",
    "m = 161              # размер датасэта каждого worker-а\n",
    "d = 123              # количество признаков (оно же размерность вектора параметра Лог.Регрессии)\n",
    "lmbd = 0.1           # коэффициент при l_2 регуляризаторе\n",
    "mu = lmbd            # коэффициент при l_2 регуляризаторе\n",
    "\n",
    "b = np.zeros((N,))   # вектор меток\n",
    "A = np.zeros((N, d)) # матрица объект-признак\n",
    "\n",
    "fle = open('a7a.txt', 'r')\n",
    "for i, line in enumerate(fle):\n",
    "    line = line.split()\n",
    "    for c in line:\n",
    "        if c == '+1':\n",
    "            b[i] = 1\n",
    "        elif c == '-1':\n",
    "            b[i] = -1\n",
    "        elif c == '\\n':\n",
    "            continue\n",
    "        else:\n",
    "            c = c.split(':')\n",
    "            A[i][int(c[0]) - 1] = float(c[1])     "
   ]
  },
  {
   "cell_type": "markdown",
   "metadata": {},
   "source": [
    "Вычисляем константу липшица функциии в задаче Лог.Рег."
   ]
  },
  {
   "cell_type": "code",
   "execution_count": 16,
   "metadata": {},
   "outputs": [
    {
     "data": {
      "text/plain": [
       "25322.463187067755"
      ]
     },
     "execution_count": 16,
     "metadata": {},
     "output_type": "execute_result"
    }
   ],
   "source": [
    "L = 1/4*np.linalg.norm(A, 2)**2 \n",
    "L"
   ]
  },
  {
   "cell_type": "markdown",
   "metadata": {},
   "source": [
    "Вычисление биномиальных коэффициентов, которые понадобятся для расчета количества бит, которые нужно для отправить на мастер-node"
   ]
  },
  {
   "cell_type": "code",
   "execution_count": 17,
   "metadata": {},
   "outputs": [],
   "source": [
    "stand_nm = [] # массив для запоминания значений функции в методе Ньютона\n",
    "\n",
    "y = np.ones(d)*0.1 # начальное приближение для оптимальной точки"
   ]
  },
  {
   "cell_type": "code",
   "execution_count": 18,
   "metadata": {},
   "outputs": [
    {
     "name": "stdout",
     "output_type": "stream",
     "text": [
      "St. NM: 1.332540211834643\n",
      "St. NM: 0.5165721472121819\n",
      "St. NM: 0.47444838829322666\n",
      "St. NM: 0.47191058499184035\n",
      "St. NM: 0.47190624706907425\n",
      "St. NM: 0.4719062470490377\n",
      "St. NM: 0.4719062470490374\n",
      "St. NM: 0.4719062470490377\n",
      "St. NM: 0.47190624704903783\n",
      "St. NM: 0.4719062470490375\n"
     ]
    }
   ],
   "source": [
    "n_of_steps = 10 # количество шагов оптимизации\n",
    "for n_step in range(n_of_steps):\n",
    "    value_stand_nm = f(y) \n",
    "    print('St. NM:', value_stand_nm)\n",
    "    \n",
    "    # далее идет реализация метода Ньютона\n",
    "    stand_nm.append(value_stand_nm)\n",
    "    true_hessian = np.zeros((d,d))\n",
    "    g = np.zeros(d)\n",
    "    for k in range(n):\n",
    "        for j in range(m):\n",
    "            true_hessian += Hessian(y, k, j)/N\n",
    "            g += gradient(y, k, j)/N\n",
    "    y = y - np.linalg.inv(true_hessian).dot(g) "
   ]
  },
  {
   "cell_type": "code",
   "execution_count": 19,
   "metadata": {},
   "outputs": [
    {
     "data": {
      "text/plain": [
       "0.4719062470490377"
      ]
     },
     "execution_count": 19,
     "metadata": {},
     "output_type": "execute_result"
    }
   ],
   "source": [
    "x_star = y # решение при помощи метода Ньютона, используем его в качестве эталона\n",
    "f(x_star) # выведем значение в оптимуме"
   ]
  },
  {
   "cell_type": "code",
   "execution_count": 20,
   "metadata": {},
   "outputs": [
    {
     "name": "stdout",
     "output_type": "stream",
     "text": [
      "Scaled Max Coef: 1.332540211834643 MaxCoef 1.332540211834643 Rnd.GD 1.332540211834643 St.GD: 1.332540211834643\n",
      "Scaled Max Coef: 0.5607770136413298 MaxCoef 0.4869507591544093 Rnd.GD 1.3324585245545746 St.GD: 1.3324566701139249\n",
      "Scaled Max Coef: 0.48502537437944193 MaxCoef 0.4738602407701045 Rnd.GD 1.3323719608997764 St.GD: 1.3323731354975703\n",
      "Scaled Max Coef: 0.4721999165295767 MaxCoef 0.47228904790280163 Rnd.GD 1.332288528279668 St.GD: 1.3322896079857471\n",
      "Scaled Max Coef: 0.47190638756568476 MaxCoef 0.4719823186487655 Rnd.GD 1.3322081084090192 St.GD: 1.3322060875783657\n",
      "Scaled Max Coef: 0.47190624704907064 MaxCoef 0.47192109262759246 Rnd.GD 1.3321119191058965 St.GD: 1.3321225742753853\n",
      "Scaled Max Coef: 0.4719062470490382 MaxCoef 0.4719091109691352 Rnd.GD 1.3320313740408756 St.GD: 1.3320390680767573\n",
      "Scaled Max Coef: 0.4719062470490376 MaxCoef 0.47190679632831845 Rnd.GD 1.3319467191975107 St.GD: 1.3319555689823999\n",
      "Scaled Max Coef: 0.4719062470490376 MaxCoef 0.4719063521083021 Rnd.GD 1.331861772778129 St.GD: 1.331872076992279\n",
      "Scaled Max Coef: 0.4719062470490374 MaxCoef 0.4719062671183516 Rnd.GD 1.3317845292147128 St.GD: 1.3317885921063308\n",
      "Scaled Max Coef: 0.47190624704903755 MaxCoef 0.4719062508807 Rnd.GD 1.3316946124904154 St.GD: 1.3317051143245033\n",
      "Scaled Max Coef: 0.47190624704903766 MaxCoef 0.47190624778040074 Rnd.GD 1.3316067504979392 St.GD: 1.3316216436467265\n",
      "Scaled Max Coef: 0.47190624704903744 MaxCoef 0.47190624718862084 Rnd.GD 1.331527433188927 St.GD: 1.331538180072954\n",
      "Scaled Max Coef: 0.47190624704903755 MaxCoef 0.4719062470756775 Rnd.GD 1.3314422346011083 St.GD: 1.3314547236031251\n",
      "Scaled Max Coef: 0.47190624704903783 MaxCoef 0.471906247054118 Rnd.GD 1.3313587045457433 St.GD: 1.3313712742371844\n",
      "Scaled Max Coef: 0.4719062470490374 MaxCoef 0.4719062470500082 Rnd.GD 1.3312799141056042 St.GD: 1.3312878319750685\n",
      "Scaled Max Coef: 0.4719062470490376 MaxCoef 0.4719062470492186 Rnd.GD 1.3312000039339875 St.GD: 1.3312043968167193\n",
      "Scaled Max Coef: 0.4719062470490377 MaxCoef 0.4719062470490714 Rnd.GD 1.331115902798268 St.GD: 1.3311209687620824\n",
      "Scaled Max Coef: 0.4719062470490375 MaxCoef 0.4719062470490412 Rnd.GD 1.3310261918905437 St.GD: 1.3310375478111038\n",
      "Scaled Max Coef: 0.4719062470490375 MaxCoef 0.47190624704904066 Rnd.GD 1.330939632138199 St.GD: 1.330954133963739\n"
     ]
    }
   ],
   "source": [
    "max_coef_newton = [] # массив для запоминания значений функции в базовом методе MCNM\n",
    "max_coef_scaled = [] # массив для запоминания значений функции в модифицированном алгоритме SMCNM\n",
    "rand_gd = []         # массив для запоминания значений функции в SGD\n",
    "stand_gd = []        # массив для запоминания значений функции в стандартном GD\n",
    "\n",
    "\n",
    "\n",
    "scaled_max_coef = [] # массив для запоминания количества отправленных бит на каждом шаге SMCNM\n",
    "bits_max_coef = []   # массив для запоминания количества отправленных бит на каждом шаге MCNM\n",
    "bits_rand_gd = []    # массив для запоминания количества отправленных бит на каждом шаге SGD\n",
    "cur_bits_max_coef = 0 # полное число отправленных бит в MCNM\n",
    "cur_bits_rand_gd = 0  # полное число отправленных бит в SGD\n",
    "cur_bits_scaled = 0   # полное число отправленных бит в SMCNM\n",
    "\n",
    "# начальные точки каждого из алгоритмов\n",
    "x = np.ones(d)*0.1 # MCNM\n",
    "z = x              # SMCNM\n",
    "t = x              # SGD\n",
    "q=x                # GD\n",
    "\n",
    "\n",
    "n_of_steps = 20 # количество шагов для каждого из алгоритма\n",
    "for n_step in range(n_of_steps):\n",
    "    value = f(q)\n",
    "    value_max_coef = f(x)\n",
    "    value_stand_nm = f(y) \n",
    "    value_rand_gd = f(z)\n",
    "    value_stand_gd = f(t)\n",
    "    print('Scaled Max Coef:', value, 'MaxCoef', value_max_coef, 'Rnd.GD', value_rand_gd, 'St.GD:', value_stand_gd)\n",
    "    \n",
    "    # реализация SMCNM\n",
    "    max_coef_scaled.append(value)\n",
    "    B = np.zeros((d,d))\n",
    "    g = np.zeros(d)\n",
    "    ans = 0\n",
    "    for k in range(n):\n",
    "        max_coef = 0\n",
    "        for j in range(m):\n",
    "            current_coef = coef_computation(q, k, j)/coef_computation(x_star, k, j)\n",
    "            if current_coef > max_coef:\n",
    "                max_coef = current_coef\n",
    "            g += gradient(q, k, j)/N\n",
    "        for j in range(m):\n",
    "            i = m*k+j\n",
    "            a = A[i]\n",
    "            B += max_coef*coef_computation(x_star, k, j)*a.reshape((d,1)).dot(a.reshape((1,d)))/N\n",
    "    B += mu*np.eye(d)\n",
    "    cur_bits_scaled += 64*n\n",
    "    q = q - np.linalg.inv(B).dot(g)\n",
    "    scaled_max_coef.append(cur_bits_scaled)\n",
    "\n",
    "\n",
    "    # реализация MCNM\n",
    "    max_coef_newton.append(value_max_coef)\n",
    "    B = np.zeros((d,d))\n",
    "    g = np.zeros(d)\n",
    "    ans = 0\n",
    "    for k in range(n):\n",
    "        max_coef = 0\n",
    "        for j in range(m):\n",
    "            current_coef = coef_computation(x, k, j)\n",
    "            if current_coef > max_coef:\n",
    "                max_coef = current_coef\n",
    "            g += gradient(x, k, j)/N\n",
    "        for j in range(m):\n",
    "            i = m*k+j\n",
    "            a = A[i]\n",
    "            B += max_coef*a.reshape((d,1)).dot(a.reshape((1,d)))/N\n",
    "    B += mu*np.eye(d)\n",
    "    cur_bits_max_coef += 64*n\n",
    "    x = x - np.linalg.inv(B).dot(g)\n",
    "    bits_max_coef.append(cur_bits_max_coef)\n",
    "\n",
    "    \n",
    "    # реализация SGD\n",
    "    rand_gd.append(value_rand_gd)\n",
    "    g_global = np.zeros(d)\n",
    "    for k in range(n):\n",
    "        j = np.random.choice(m)\n",
    "        g_global += gradient(z, k, j)/n\n",
    "    cur_bits_rand_gd += 64*n\n",
    "    bits_rand_gd.append(cur_bits_rand_gd)\n",
    "    z = z - 1/L*g_global\n",
    "    \n",
    "    # реализация GD\n",
    "    stand_gd.append(value_stand_gd)\n",
    "    g_global = np.zeros(d)\n",
    "    for k in range(n):\n",
    "        for j in range(m):\n",
    "            g_global += gradient(t, k, j)/N\n",
    "    t = t - 1/L*g_global"
   ]
  },
  {
   "cell_type": "markdown",
   "metadata": {},
   "source": [
    "Далее делаем сдвиг значений функций относительно оптимума для построения графика"
   ]
  },
  {
   "cell_type": "code",
   "execution_count": 21,
   "metadata": {},
   "outputs": [],
   "source": [
    "f_optimal = stand_nm[-1]\n",
    "max_coef_scaled = np.array(max_coef_scaled) - f_optimal\n",
    "stand_gd = np.array(stand_gd) - f_optimal\n",
    "max_coef_newton = np.array(max_coef_newton) - f_optimal\n",
    "stand_nm = np.array(stand_nm) - f_optimal\n",
    "rand_gd = np.array(rand_gd) - f_optimal"
   ]
  },
  {
   "cell_type": "markdown",
   "metadata": {},
   "source": [
    "Далее идет ячейка для построения графика, показывающего результаты оптимизации"
   ]
  },
  {
   "cell_type": "code",
   "execution_count": 23,
   "metadata": {},
   "outputs": [
    {
     "data": {
      "image/png": "[encoded data removed]",
      "text/plain": [
       "<Figure size 720x576 with 1 Axes>"
      ]
     },
     "metadata": {
      "needs_background": "light"
     },
     "output_type": "display_data"
    }
   ],
   "source": [
    "plt.figure(figsize=[10, 8])\n",
    "pylab.semilogy(range(len(max_coef_scaled)), max_coef_scaled,\n",
    "               label='scaled max. coefficient Newton')\n",
    "pylab.semilogy(range(len(max_coef_newton)), max_coef_newton, color='darkgreen',\n",
    "               label='max. coefficient Newton')\n",
    "pylab.semilogy(range(len(stand_nm)), stand_nm, color='darkorange',label='standart Newton method')\n",
    "pylab.semilogy(range(len(rand_gd)), rand_gd, color='darkblue',\n",
    "               label='SGD with random coefficient')\n",
    "pylab.semilogy(range(len(stand_gd)), stand_gd, label='GD')\n",
    "\n",
    "plt.xlim([-0.01, 20])\n",
    "#plt.ylim([10**(-20), 1])\n",
    "plt.xlabel('Iteration',fontsize=15)\n",
    "plt.ylabel('$f(x)-f^*$',fontsize=15)\n",
    "plt.title(r'Comparison of methods (a7a dataset, $d = 123, n = 100, N = nm, m = 161, \\mu=0.02, L = \\frac{||A||^2_2}{4})$',fontsize=15)\n",
    "plt.legend(loc=\"best\")\n",
    "plt.minorticks_on()\n",
    "plt.grid(which='major', color='black', alpha =0.3)\n",
    "plt.grid(which='minor', color='grey', alpha=0.2)\n",
    "plt.savefig('a7a_dataset_12.png')\n",
    "plt.show()"
   ]
  },
  {
   "cell_type": "code",
   "execution_count": null,
   "metadata": {},
   "outputs": [],
   "source": []
  }
 ],
 "metadata": {
  "kernelspec": {
   "display_name": "Python 3",
   "language": "python",
   "name": "python3"
  },
  "language_info": {
   "codemirror_mode": {
    "name": "ipython",
    "version": 3
   },
   "file_extension": ".py",
   "mimetype": "text/x-python",
   "name": "python",
   "nbconvert_exporter": "python",
   "pygments_lexer": "ipython3",
   "version": "3.8.3"
  }
 },
 "nbformat": 4,
 "nbformat_minor": 4
}
