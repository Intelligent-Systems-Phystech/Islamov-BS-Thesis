{
 "cells": [
  {
   "cell_type": "markdown",
   "metadata": {},
   "source": [
    "Подключаем необходимые библиотеки"
   ]
  },
  {
   "cell_type": "code",
   "execution_count": 26,
   "metadata": {},
   "outputs": [],
   "source": [
    "import numpy as np\n",
    "import math\n",
    "import matplotlib.pyplot as plt\n",
    "from sklearn.metrics import accuracy_score\n",
    "from scipy.stats import bernoulli\n",
    "import matplotlib.pyplot as plt\n",
    "import random\n",
    "import pylab\n",
    "import numpy.distutils.system_info as sysinfo\n",
    "import scipy.special\n",
    "from random import randrange\n",
    "import math\n",
    "import sys"
   ]
  },
  {
   "cell_type": "markdown",
   "metadata": {},
   "source": [
    "Реализация необходимых функция для проведения базового эксперимента. Эксперимент ставится для логистической регресии. Ниже реализованы функции именно для этой базового эксперимента"
   ]
  },
  {
   "cell_type": "markdown",
   "metadata": {},
   "source": [
    "# Эксперимент на a7a датасэте\n",
    "\n",
    "## logistic regression problem"
   ]
  },
  {
   "cell_type": "code",
   "execution_count": 27,
   "metadata": {},
   "outputs": [],
   "source": [
    "def f(x): \n",
    "    '''\n",
    "     функция логистической регрессии для всех worker-ов в точке x\n",
    "    '''\n",
    "    ans = 0\n",
    "    for i in range(N):\n",
    "        ans += math.log(1+math.exp(-b[i]*A[i].dot(x)))/N\n",
    "    ans += lmbd/2*np.linalg.norm(x)**2\n",
    "    return ans\n",
    "\n",
    "def Hessian(x, k, j): \n",
    "    '''\n",
    "    функция для вычисления Гессиана в точке x для i-го workera на j-ой точке его датасэта\n",
    "    '''\n",
    "    i = k*m+j\n",
    "    alpha = b[i]**2*math.exp(-b[i]*A[i].dot(x))/(1+math.exp(-b[i]*A[i].dot(x)))**2\n",
    "    ans = lmbd*np.eye(d) + alpha*A[i].reshape((d,1)).dot(A[i].reshape(1,d))\n",
    "    return ans\n",
    "\n",
    "def coef_computation(x, k, j): \n",
    "    '''\n",
    "    функция для вычисления коэффициента, \n",
    "    который стоит перед одноранговой матрицей Гессе для i-го worker-а на j-ой точке его датасэта\n",
    "    '''\n",
    "    i = m*k + j\n",
    "    alpha = b[i]**2*math.exp(-b[i]*A[i].dot(x))/(1+math.exp(-b[i]*A[i].dot(x)))**2\n",
    "    return alpha\n",
    "\n",
    "def gradient(x, k, j): \n",
    "    '''\n",
    "    вычисление градиента для i-го worker-а на j-ой точке его датасэта\n",
    "    '''\n",
    "    i = m*k + j\n",
    "    alpha = -b[i]*math.exp(-b[i]*A[i].dot(x))/(1+math.exp(-b[i]*A[i].dot(x)))\n",
    "    ans = lmbd*x+alpha*A[i]\n",
    "    return ans\n",
    "\n",
    "def coef_comp(x, k, j):\n",
    "    '''\n",
    "    вычисление коэффициента, \n",
    "    который стоит перед градиентом для i-го worker-a \n",
    "    на j-ой точке его датасэта\n",
    "    '''\n",
    "    i = m*k + j\n",
    "    alpha = -b[i]*math.exp(-b[i]*A[i].dot(x))/(1+math.exp(-b[i]*A[i].dot(x)))\n",
    "    return alpha"
   ]
  },
  {
   "cell_type": "markdown",
   "metadata": {},
   "source": [
    "Далее идет считывание данных из датасэта a7a. Для успешного запуска данной ячейки нужно наличие файла `a7a.txt` из репозитория с кодом в той же папке, что текущий ноутбук."
   ]
  },
  {
   "cell_type": "code",
   "execution_count": 28,
   "metadata": {},
   "outputs": [],
   "source": [
    "N = 16100            # полное число точек в датасэте\n",
    "n = 100              # число worker-ов\n",
    "m = 161              # размер датасэта каждого worker-а\n",
    "d = 123              # количество признаков (оно же размерность вектора параметра Лог.Регрессии)\n",
    "lmbd = 0.1           # коэффициент при l_2 регуляризаторе\n",
    "mu = lmbd            # коэффициент при l_2 регуляризаторе\n",
    "\n",
    "b = np.zeros((N,))   # вектор меток\n",
    "A = np.zeros((N, d)) # матрица объект-признак\n",
    "\n",
    "fle = open('a7a.txt', 'r')\n",
    "for i, line in enumerate(fle):\n",
    "    line = line.split()\n",
    "    for c in line:\n",
    "        if c == '+1':\n",
    "            b[i] = 1\n",
    "        elif c == '-1':\n",
    "            b[i] = -1\n",
    "        elif c == '\\n':\n",
    "            continue\n",
    "        else:\n",
    "            c = c.split(':')\n",
    "            A[i][int(c[0]) - 1] = float(c[1])     "
   ]
  },
  {
   "cell_type": "markdown",
   "metadata": {},
   "source": [
    "Вычисляем константу липшица функциии в задаче Лог.Рег."
   ]
  },
  {
   "cell_type": "code",
   "execution_count": 29,
   "metadata": {},
   "outputs": [
    {
     "data": {
      "text/plain": [
       "25322.463187067755"
      ]
     },
     "execution_count": 29,
     "metadata": {},
     "output_type": "execute_result"
    }
   ],
   "source": [
    "L = 1/4*np.linalg.norm(A, 2)**2 \n",
    "L"
   ]
  },
  {
   "cell_type": "markdown",
   "metadata": {},
   "source": [
    "Вычисление биномиальных коэффициентов, которые понадобятся для расчета количества бит, которые нужно для отправить на мастер-node"
   ]
  },
  {
   "cell_type": "code",
   "execution_count": 30,
   "metadata": {},
   "outputs": [],
   "source": [
    "binom = np.zeros((d+1, d+1))\n",
    "for i in range(d+1):\n",
    "    binom[i,0] = 1\n",
    "    binom[i,i] = 1\n",
    "for i in range(2,d+1):\n",
    "    for j in range(1, i):\n",
    "        binom[i,j] = binom[i-1,j]+binom[i-1,j-1]"
   ]
  },
  {
   "cell_type": "markdown",
   "metadata": {},
   "source": [
    "Реализация метода Ньютона"
   ]
  },
  {
   "cell_type": "code",
   "execution_count": 53,
   "metadata": {},
   "outputs": [],
   "source": [
    "stand_nm = [] # массив для запоминания значений функции в методе Ньютона\n",
    "\n",
    "y = np.ones(d)*0.1 # начальное приближение для оптимальной точки"
   ]
  },
  {
   "cell_type": "code",
   "execution_count": 54,
   "metadata": {},
   "outputs": [
    {
     "name": "stdout",
     "output_type": "stream",
     "text": [
      "St. NM: 0.6933714452027318\n",
      "St. NM: 0.6908180732199471\n",
      "St. NM: 0.6908180289853603\n",
      "St. NM: 0.6908180289853579\n",
      "St. NM: 0.690818028985358\n",
      "St. NM: 0.6908180289853579\n",
      "St. NM: 0.6908180289853579\n",
      "St. NM: 0.690818028985358\n",
      "St. NM: 0.690818028985358\n",
      "St. NM: 0.6908180289853579\n"
     ]
    }
   ],
   "source": [
    "n_of_steps = 10 # количество шагов оптимизации\n",
    "for n_step in range(n_of_steps):\n",
    "    value_stand_nm = f(y) \n",
    "    print('St. NM:', value_stand_nm)\n",
    "    \n",
    "    # далее идет реализация метода Ньютона\n",
    "    stand_nm.append(value_stand_nm)\n",
    "    true_hessian = np.zeros((d,d))\n",
    "    g = np.zeros(d)\n",
    "    for k in range(n):\n",
    "        for j in range(m):\n",
    "            true_hessian += Hessian(y, k, j)/N\n",
    "            g += gradient(y, k, j)/N\n",
    "    y = y - np.linalg.inv(true_hessian).dot(g) "
   ]
  },
  {
   "cell_type": "code",
   "execution_count": 33,
   "metadata": {},
   "outputs": [
    {
     "data": {
      "text/plain": [
       "0.4719062470490377"
      ]
     },
     "execution_count": 33,
     "metadata": {},
     "output_type": "execute_result"
    }
   ],
   "source": [
    "x_star = y # решение при помощи метода Ньютона, используем его в качестве эталона\n",
    "f_optimal = f(x_star) # выведем значение в оптимуме\n",
    "f_optimal"
   ]
  },
  {
   "cell_type": "code",
   "execution_count": 34,
   "metadata": {},
   "outputs": [
    {
     "name": "stdout",
     "output_type": "stream",
     "text": [
      "Scaled Max Coef: 1.332540211834643 MaxCoef 1.332540211834643 Rnd.GD 1.332540211834643 St.GD: 1.332540211834643\n",
      "Scaled Max Coef: 0.5607770136413298 MaxCoef 0.4869507591544093 Rnd.GD 1.3324582627326653 St.GD: 1.3324566701139249\n",
      "Scaled Max Coef: 0.48502537437944193 MaxCoef 0.4738602407701045 Rnd.GD 1.3323743260964966 St.GD: 1.3323731354975703\n",
      "Scaled Max Coef: 0.4721999165295767 MaxCoef 0.47228904790280163 Rnd.GD 1.3322920220452763 St.GD: 1.3322896079857471\n",
      "Scaled Max Coef: 0.47190638756568476 MaxCoef 0.4719823186487655 Rnd.GD 1.3321979027210853 St.GD: 1.3322060875783657\n",
      "Scaled Max Coef: 0.47190624704907064 MaxCoef 0.47192109262759246 Rnd.GD 1.3321054506550305 St.GD: 1.3321225742753853\n",
      "Scaled Max Coef: 0.4719062470490382 MaxCoef 0.4719091109691352 Rnd.GD 1.3320206567461792 St.GD: 1.3320390680767573\n",
      "Scaled Max Coef: 0.4719062470490376 MaxCoef 0.47190679632831845 Rnd.GD 1.331935003127604 St.GD: 1.3319555689823999\n",
      "Scaled Max Coef: 0.4719062470490376 MaxCoef 0.4719063521083021 Rnd.GD 1.3318604409966783 St.GD: 1.331872076992279\n",
      "Scaled Max Coef: 0.4719062470490374 MaxCoef 0.4719062671183516 Rnd.GD 1.3317826616918393 St.GD: 1.3317885921063308\n",
      "Scaled Max Coef: 0.47190624704903755 MaxCoef 0.4719062508807 Rnd.GD 1.3317037489844714 St.GD: 1.3317051143245033\n",
      "Scaled Max Coef: 0.47190624704903766 MaxCoef 0.47190624778040074 Rnd.GD 1.331616449247599 St.GD: 1.3316216436467265\n",
      "Scaled Max Coef: 0.47190624704903744 MaxCoef 0.47190624718862084 Rnd.GD 1.3315177637099262 St.GD: 1.331538180072954\n",
      "Scaled Max Coef: 0.47190624704903755 MaxCoef 0.4719062470756775 Rnd.GD 1.331428915519057 St.GD: 1.3314547236031251\n",
      "Scaled Max Coef: 0.47190624704903783 MaxCoef 0.471906247054118 Rnd.GD 1.3313456307597644 St.GD: 1.3313712742371844\n",
      "Scaled Max Coef: 0.4719062470490374 MaxCoef 0.4719062470500082 Rnd.GD 1.3312495499572023 St.GD: 1.3312878319750685\n",
      "Scaled Max Coef: 0.4719062470490376 MaxCoef 0.4719062470492186 Rnd.GD 1.3311706391312068 St.GD: 1.3312043968167193\n",
      "Scaled Max Coef: 0.4719062470490377 MaxCoef 0.4719062470490714 Rnd.GD 1.3310883320780187 St.GD: 1.3311209687620824\n",
      "Scaled Max Coef: 0.4719062470490375 MaxCoef 0.4719062470490412 Rnd.GD 1.3309943782252842 St.GD: 1.3310375478111038\n",
      "Scaled Max Coef: 0.4719062470490375 MaxCoef 0.47190624704904066 Rnd.GD 1.3309037640280363 St.GD: 1.330954133963739\n"
     ]
    }
   ],
   "source": [
    "max_coef_newton = [] # массив для запоминания значений функции в базовом методе MCNM\n",
    "max_coef_scaled = [] # массив для запоминания значений функции в модифицированном алгоритме SMCNM\n",
    "rand_gd = []         # массив для запоминания значений функции в SGD\n",
    "stand_gd = []        # массив для запоминания значений функции в стандартном GD\n",
    "\n",
    "\n",
    "\n",
    "scaled_max_coef = [] # массив для запоминания количества отправленных бит на каждом шаге SMCNM\n",
    "bits_max_coef = []   # массив для запоминания количества отправленных бит на каждом шаге MCNM\n",
    "bits_rand_gd = []    # массив для запоминания количества отправленных бит на каждом шаге SGD\n",
    "cur_bits_max_coef = 0 # полное число отправленных бит в MCNM\n",
    "cur_bits_rand_gd = 0  # полное число отправленных бит в SGD\n",
    "cur_bits_scaled = 0   # полное число отправленных бит в SMCNM\n",
    "\n",
    "# начальные точки каждого из алгоритмов\n",
    "x = np.ones(d)*0.1 # MCNM\n",
    "z = x              # SMCNM\n",
    "t = x              # SGD\n",
    "q=x                # GD\n",
    "\n",
    "\n",
    "n_of_steps = 20 # количество шагов для каждого из алгоритма\n",
    "for n_step in range(n_of_steps):\n",
    "    value = f(q)\n",
    "    value_max_coef = f(x)\n",
    "    value_stand_nm = f(y) \n",
    "    value_rand_gd = f(z)\n",
    "    value_stand_gd = f(t)\n",
    "    print('Scaled Max Coef:', value, 'MaxCoef', value_max_coef, 'Rnd.GD', value_rand_gd, 'St.GD:', value_stand_gd)\n",
    "    \n",
    "    # реализация SMCNM\n",
    "    max_coef_scaled.append(value)\n",
    "    B = np.zeros((d,d))\n",
    "    g = np.zeros(d)\n",
    "    ans = 0\n",
    "    for k in range(n):\n",
    "        max_coef = 0\n",
    "        for j in range(m):\n",
    "            current_coef = coef_computation(q, k, j)/coef_computation(x_star, k, j)\n",
    "            if current_coef > max_coef:\n",
    "                max_coef = current_coef\n",
    "            g += gradient(q, k, j)/N\n",
    "        for j in range(m):\n",
    "            i = m*k+j\n",
    "            a = A[i]\n",
    "            B += max_coef*coef_computation(x_star, k, j)*a.reshape((d,1)).dot(a.reshape((1,d)))/N\n",
    "    B += mu*np.eye(d)\n",
    "    cur_bits_scaled += 64*n\n",
    "    q = q - np.linalg.inv(B).dot(g)\n",
    "    scaled_max_coef.append(cur_bits_scaled)\n",
    "\n",
    "\n",
    "    # реализация MCNM\n",
    "    max_coef_newton.append(value_max_coef)\n",
    "    B = np.zeros((d,d))\n",
    "    g = np.zeros(d)\n",
    "    ans = 0\n",
    "    for k in range(n):\n",
    "        max_coef = 0\n",
    "        for j in range(m):\n",
    "            current_coef = coef_computation(x, k, j)\n",
    "            if current_coef > max_coef:\n",
    "                max_coef = current_coef\n",
    "            g += gradient(x, k, j)/N\n",
    "        for j in range(m):\n",
    "            i = m*k+j\n",
    "            a = A[i]\n",
    "            B += max_coef*a.reshape((d,1)).dot(a.reshape((1,d)))/N\n",
    "    B += mu*np.eye(d)\n",
    "    cur_bits_max_coef += 64*n\n",
    "    x = x - np.linalg.inv(B).dot(g)\n",
    "    bits_max_coef.append(cur_bits_max_coef)\n",
    "\n",
    "    \n",
    "    # реализация SGD\n",
    "    rand_gd.append(value_rand_gd)\n",
    "    g_global = np.zeros(d)\n",
    "    for k in range(n):\n",
    "        j = np.random.choice(m)\n",
    "        g_global += gradient(z, k, j)/n\n",
    "    cur_bits_rand_gd += 64*n\n",
    "    bits_rand_gd.append(cur_bits_rand_gd)\n",
    "    z = z - 1/L*g_global\n",
    "    \n",
    "    # реализация GD\n",
    "    stand_gd.append(value_stand_gd)\n",
    "    g_global = np.zeros(d)\n",
    "    for k in range(n):\n",
    "        for j in range(m):\n",
    "            g_global += gradient(t, k, j)/N\n",
    "    t = t - 1/L*g_global"
   ]
  },
  {
   "cell_type": "markdown",
   "metadata": {},
   "source": [
    "Далее делаем сдвиг значений функций относительно оптимума для построения графика"
   ]
  },
  {
   "cell_type": "code",
   "execution_count": 35,
   "metadata": {},
   "outputs": [],
   "source": [
    "max_coef_scaled = np.array(max_coef_scaled) - f_optimal\n",
    "stand_gd = np.array(stand_gd) - f_optimal\n",
    "max_coef_newton = np.array(max_coef_newton) - f_optimal\n",
    "stand_nm = np.array(stand_nm) - f_optimal\n",
    "rand_gd = np.array(rand_gd) - f_optimal"
   ]
  },
  {
   "cell_type": "markdown",
   "metadata": {},
   "source": [
    "Далее идет ячейка для построения графика, показывающего результаты оптимизации"
   ]
  },
  {
   "cell_type": "code",
   "execution_count": 36,
   "metadata": {},
   "outputs": [
    {
     "data": {
      "image/png": "[encoded data removed]",
      "text/plain": [
       "<Figure size 720x576 with 1 Axes>"
      ]
     },
     "metadata": {
      "needs_background": "light"
     },
     "output_type": "display_data"
    }
   ],
   "source": [
    "plt.figure(figsize=[10, 8])\n",
    "pylab.semilogy(range(len(max_coef_scaled)), max_coef_scaled,\n",
    "               label='scaled max. coefficient Newton')\n",
    "pylab.semilogy(range(len(max_coef_newton)), max_coef_newton, color='darkgreen',\n",
    "               label='max. coefficient Newton')\n",
    "pylab.semilogy(range(len(stand_nm)), stand_nm, color='darkorange',label='standart Newton method')\n",
    "pylab.semilogy(range(len(rand_gd)), rand_gd, color='darkblue',\n",
    "               label='SGD with random coefficient')\n",
    "pylab.semilogy(range(len(stand_gd)), stand_gd, label='GD')\n",
    "\n",
    "plt.xlim([-0.01, 20])\n",
    "#plt.ylim([10**(-20), 1])\n",
    "plt.xlabel('Iteration',fontsize=15)\n",
    "plt.ylabel('$f(x)-f^*$',fontsize=15)\n",
    "plt.title(r'Comparison of methods (a7a dataset, $d = 123, n = 100, N = nm, m = 161, \\mu=0.02, L = \\frac{||A||^2_2}{4})$',fontsize=15)\n",
    "plt.legend(loc=\"best\")\n",
    "plt.minorticks_on()\n",
    "plt.grid(which='major', color='black', alpha =0.3)\n",
    "plt.grid(which='minor', color='grey', alpha=0.2)\n",
    "plt.savefig('a7a_dataset_12.png')\n",
    "plt.show()"
   ]
  },
  {
   "cell_type": "markdown",
   "metadata": {},
   "source": [
    "График, который иллюстрирует сравнение алгоритмов в терминах колисетсва инфмомации"
   ]
  },
  {
   "cell_type": "code",
   "execution_count": 37,
   "metadata": {},
   "outputs": [],
   "source": [
    "L = 161*mu # используем оценочное значение константы Липшица для более эффективной работы методов первого порядка"
   ]
  },
  {
   "cell_type": "markdown",
   "metadata": {},
   "source": [
    "Дальнейший код повторяет предыдущие, но с измененным параметром константы липшица, поэтому не нуждается в детальном комментировании"
   ]
  },
  {
   "cell_type": "code",
   "execution_count": 38,
   "metadata": {},
   "outputs": [
    {
     "name": "stdout",
     "output_type": "stream",
     "text": [
      "St. NM: 1.332540211834643\n",
      "St. NM: 0.5165721472121819\n",
      "St. NM: 0.47444838829322666\n",
      "St. NM: 0.47191058499184035\n",
      "St. NM: 0.47190624706907425\n",
      "St. NM: 0.4719062470490377\n",
      "St. NM: 0.4719062470490374\n",
      "St. NM: 0.4719062470490377\n",
      "St. NM: 0.47190624704903783\n",
      "St. NM: 0.4719062470490375\n",
      "Scaled Max Coef: 1.332540211834643 MaxCoef 1.332540211834643 Rnd.GD 1.332540211834643 St.GD: 1.332540211834643\n",
      "Scaled Max Coef: 0.5607770136413298 MaxCoef 0.4869507591544093 Rnd.GD 1.2261795794246537 St.GD: 1.2057166933552919\n",
      "Scaled Max Coef: 0.48502537437944193 MaxCoef 0.4738602407701045 Rnd.GD 1.1196300237719512 St.GD: 1.0966971538533137\n",
      "Scaled Max Coef: 0.4721999165295767 MaxCoef 0.47228904790280163 Rnd.GD 1.0201119485302157 St.GD: 1.0044554560982841\n",
      "Scaled Max Coef: 0.47190638756568476 MaxCoef 0.4719823186487655 Rnd.GD 0.935572789097236 St.GD: 0.9274325338107977\n",
      "Scaled Max Coef: 0.47190624704907064 MaxCoef 0.47192109262759246 Rnd.GD 0.8697118968382105 St.GD: 0.8637575433039475\n",
      "Scaled Max Coef: 0.4719062470490382 MaxCoef 0.4719091109691352 Rnd.GD 0.813389933352096 St.GD: 0.8114669755274666\n",
      "Scaled Max Coef: 0.4719062470490376 MaxCoef 0.47190679632831845 Rnd.GD 0.7700305648627174 St.GD: 0.7686757265382754\n",
      "Scaled Max Coef: 0.4719062470490376 MaxCoef 0.4719063521083021 Rnd.GD 0.7341446355295429 St.GD: 0.7336836257070712\n",
      "Scaled Max Coef: 0.4719062470490374 MaxCoef 0.4719062671183516 Rnd.GD 0.7071996121790048 St.GD: 0.7050237677642698\n",
      "Scaled Max Coef: 0.47190624704903755 MaxCoef 0.4719062508807 Rnd.GD 0.6827430582019326 St.GD: 0.6814692834986192\n",
      "Scaled Max Coef: 0.47190624704903766 MaxCoef 0.47190624778040074 Rnd.GD 0.6671799902838139 St.GD: 0.6620157357147332\n",
      "Scaled Max Coef: 0.47190624704903744 MaxCoef 0.47190624718862084 Rnd.GD 0.6492348375818175 St.GD: 0.6458523240360691\n",
      "Scaled Max Coef: 0.47190624704903755 MaxCoef 0.4719062470756775 Rnd.GD 0.6404282874553399 St.GD: 0.6323302988166312\n",
      "Scaled Max Coef: 0.47190624704903783 MaxCoef 0.471906247054118 Rnd.GD 0.6321992533243426 St.GD: 0.6209331376209335\n",
      "Scaled Max Coef: 0.4719062470490374 MaxCoef 0.4719062470500082 Rnd.GD 0.6201696364642616 St.GD: 0.6112504887563202\n",
      "Scaled Max Coef: 0.4719062470490376 MaxCoef 0.4719062470492186 Rnd.GD 0.6110090744534914 St.GD: 0.6029564140899557\n",
      "Scaled Max Coef: 0.4719062470490377 MaxCoef 0.4719062470490714 Rnd.GD 0.6030413515403493 St.GD: 0.5957917188401503\n",
      "Scaled Max Coef: 0.4719062470490375 MaxCoef 0.4719062470490412 Rnd.GD 0.5968215725950756 St.GD: 0.589549844698033\n",
      "Scaled Max Coef: 0.4719062470490375 MaxCoef 0.47190624704904066 Rnd.GD 0.591859480933901 St.GD: 0.5840657237748795\n"
     ]
    }
   ],
   "source": [
    "stand_nm = [] # массив для запоминания значений функции в методе Ньютона\n",
    "\n",
    "y = np.ones(d)*0.1 # начальное приближение для оптимальной точки\n",
    "\n",
    "n_of_steps = 10 # количество шагов оптимизации\n",
    "for n_step in range(n_of_steps):\n",
    "    value_stand_nm = f(y) \n",
    "    print('St. NM:', value_stand_nm)\n",
    "    \n",
    "    # далее идет реализация метода Ньютона\n",
    "    stand_nm.append(value_stand_nm)\n",
    "    true_hessian = np.zeros((d,d))\n",
    "    g = np.zeros(d)\n",
    "    for k in range(n):\n",
    "        for j in range(m):\n",
    "            true_hessian += Hessian(y, k, j)/N\n",
    "            g += gradient(y, k, j)/N\n",
    "    y = y - np.linalg.inv(true_hessian).dot(g) \n",
    "\n",
    "x_star = y # решение при помощи метода Ньютона, используем его в качестве эталона\n",
    "f(x_star) # выведем значение в оптимуме\n",
    "\n",
    "max_coef_newton = [] # массив для запоминания значений функции в базовом методе MCNM\n",
    "max_coef_scaled = [] # массив для запоминания значений функции в модифицированном алгоритме SMCNM\n",
    "rand_gd = []         # массив для запоминания значений функции в SGD\n",
    "stand_gd = []        # массив для запоминания значений функции в стандартном GD\n",
    "\n",
    "\n",
    "\n",
    "scaled_max_coef = [] # массив для запоминания количества отправленных бит на каждом шаге SMCNM\n",
    "bits_max_coef = []   # массив для запоминания количества отправленных бит на каждом шаге MCNM\n",
    "bits_rand_gd = []    # массив для запоминания количества отправленных бит на каждом шаге SGD\n",
    "cur_bits_max_coef = 0 # полное число отправленных бит в MCNM\n",
    "cur_bits_rand_gd = 0  # полное число отправленных бит в SGD\n",
    "cur_bits_scaled = 0   # полное число отправленных бит в SMCNM\n",
    "\n",
    "# начальные точки каждого из алгоритмов\n",
    "x = np.ones(d)*0.1 # MCNM\n",
    "z = x              # SMCNM\n",
    "t = x              # SGD\n",
    "q=x                # GD\n",
    "\n",
    "\n",
    "n_of_steps = 20 # количество шагов для каждого из алгоритма\n",
    "for n_step in range(n_of_steps):\n",
    "    value = f(q)\n",
    "    value_max_coef = f(x)\n",
    "    value_stand_nm = f(y) \n",
    "    value_rand_gd = f(z)\n",
    "    value_stand_gd = f(t)\n",
    "    print('Scaled Max Coef:', value, 'MaxCoef', value_max_coef, 'Rnd.GD', value_rand_gd, 'St.GD:', value_stand_gd)\n",
    "    \n",
    "    # реализация SMCNM\n",
    "    max_coef_scaled.append(value)\n",
    "    B = np.zeros((d,d))\n",
    "    g = np.zeros(d)\n",
    "    ans = 0\n",
    "    for k in range(n):\n",
    "        max_coef = 0\n",
    "        for j in range(m):\n",
    "            current_coef = coef_computation(q, k, j)/coef_computation(x_star, k, j)\n",
    "            if current_coef > max_coef:\n",
    "                max_coef = current_coef\n",
    "            g += gradient(q, k, j)/N\n",
    "        for j in range(m):\n",
    "            i = m*k+j\n",
    "            a = A[i]\n",
    "            B += max_coef*coef_computation(x_star, k, j)*a.reshape((d,1)).dot(a.reshape((1,d)))/N\n",
    "    B += mu*np.eye(d)\n",
    "    cur_bits_scaled += 64*n\n",
    "    q = q - np.linalg.inv(B).dot(g)\n",
    "    scaled_max_coef.append(cur_bits_scaled)\n",
    "\n",
    "\n",
    "    # реализация MCNM\n",
    "    max_coef_newton.append(value_max_coef)\n",
    "    B = np.zeros((d,d))\n",
    "    g = np.zeros(d)\n",
    "    ans = 0\n",
    "    for k in range(n):\n",
    "        max_coef = 0\n",
    "        for j in range(m):\n",
    "            current_coef = coef_computation(x, k, j)\n",
    "            if current_coef > max_coef:\n",
    "                max_coef = current_coef\n",
    "            g += gradient(x, k, j)/N\n",
    "        for j in range(m):\n",
    "            i = m*k+j\n",
    "            a = A[i]\n",
    "            B += max_coef*a.reshape((d,1)).dot(a.reshape((1,d)))/N\n",
    "    B += mu*np.eye(d)\n",
    "    cur_bits_max_coef += 64*n\n",
    "    x = x - np.linalg.inv(B).dot(g)\n",
    "    bits_max_coef.append(cur_bits_max_coef)\n",
    "\n",
    "    \n",
    "    # реализация SGD\n",
    "    rand_gd.append(value_rand_gd)\n",
    "    g_global = np.zeros(d)\n",
    "    for k in range(n):\n",
    "        j = np.random.choice(m)\n",
    "        g_global += gradient(z, k, j)/n\n",
    "    cur_bits_rand_gd += 64*n\n",
    "    bits_rand_gd.append(cur_bits_rand_gd)\n",
    "    z = z - 1/L*g_global\n",
    "    \n",
    "    # реализация GD\n",
    "    stand_gd.append(value_stand_gd)\n",
    "    g_global = np.zeros(d)\n",
    "    for k in range(n):\n",
    "        for j in range(m):\n",
    "            g_global += gradient(t, k, j)/N\n",
    "    t = t - 1/L*g_global"
   ]
  },
  {
   "cell_type": "code",
   "execution_count": 40,
   "metadata": {},
   "outputs": [],
   "source": [
    "max_coef_scaled = np.array(max_coef_scaled) - f_optimal\n",
    "stand_gd = np.array(stand_gd) - f_optimal\n",
    "max_coef_newton = np.array(max_coef_newton) - f_optimal\n",
    "stand_nm = np.array(stand_nm) - f_optimal\n",
    "rand_gd = np.array(rand_gd) - f_optimal"
   ]
  },
  {
   "cell_type": "code",
   "execution_count": 41,
   "metadata": {},
   "outputs": [
    {
     "data": {
      "image/png": "[encoded data removed]",
      "text/plain": [
       "<Figure size 720x576 with 1 Axes>"
      ]
     },
     "metadata": {
      "needs_background": "light"
     },
     "output_type": "display_data"
    }
   ],
   "source": [
    "plt.figure(figsize=[10, 8])\n",
    "pylab.semilogy(range(len(max_coef_scaled)), max_coef_scaled,\n",
    "               label='scaled max. coefficient Newton')\n",
    "pylab.semilogy(range(len(max_coef_newton)), max_coef_newton, color='darkgreen',\n",
    "               label='max. coefficient Newton')\n",
    "pylab.semilogy(range(len(stand_nm)), stand_nm, color='darkorange',label='standart Newton method')\n",
    "pylab.semilogy(range(len(rand_gd)), rand_gd, color='darkblue',\n",
    "               label='SGD with random coefficient')\n",
    "pylab.semilogy(range(len(stand_gd)), stand_gd, label='GD')\n",
    "\n",
    "plt.xlim([-0.01, 20])\n",
    "#plt.ylim([10**(-20), 1])\n",
    "plt.xlabel('Iteration',fontsize=15)\n",
    "plt.ylabel('$f(x)-f^*$',fontsize=15)\n",
    "plt.title(r'Comparison of methods (a7a dataset, $d = 123, n = 100, N = nm, m = 161, \\mu=0.02, L = \\frac{||A||^2_2}{4})$',fontsize=15)\n",
    "plt.legend(loc=\"best\")\n",
    "plt.minorticks_on()\n",
    "plt.grid(which='major', color='black', alpha =0.3)\n",
    "plt.grid(which='minor', color='grey', alpha=0.2)\n",
    "plt.savefig('a7a_dataset_12222.png')\n",
    "plt.show()"
   ]
  },
  {
   "cell_type": "markdown",
   "metadata": {},
   "source": [
    "Исследование размера локальной сходимости"
   ]
  },
  {
   "cell_type": "code",
   "execution_count": 42,
   "metadata": {},
   "outputs": [],
   "source": [
    "# Нужно расскоментировать ту строку в зависимости от размера локальной области\n",
    " size = 0.15 # при таком размере рассходится метод Ньютона\n",
    "# size = 0.25 # при таком размере расходится MCNM\n",
    "# size = 0.32 # при таком методе расходится SMCNM"
   ]
  },
  {
   "cell_type": "markdown",
   "metadata": {},
   "source": [
    "Далее используется тот же код, что и выше, поэтому в детальном комментировании не нуждается"
   ]
  },
  {
   "cell_type": "code",
   "execution_count": 43,
   "metadata": {},
   "outputs": [
    {
     "name": "stdout",
     "output_type": "stream",
     "text": [
      "St. NM: 1.8280822947372481\n",
      "St. NM: 0.9018925356394063\n",
      "St. NM: 1.673337885502781\n",
      "St. NM: 1.1490487808467478\n",
      "St. NM: 3.5046650515365223\n",
      "St. NM: 7.141881696907303\n",
      "St. NM: 13.125586100343815\n",
      "St. NM: 28.859100459087934\n",
      "St. NM: 13.149733851816574\n",
      "St. NM: 28.859617134284576\n",
      "Scaled Max Coef: 1.8280822947372481 MaxCoef 1.8280822947372481 Rnd.GD 1.8280822947372481 St.GD: 1.8280822947372481\n",
      "Scaled Max Coef: 1.7765615567284767 MaxCoef 0.6540291295611282 Rnd.GD 1.650034630297868 St.GD: 1.6519247422427612\n",
      "Scaled Max Coef: 1.7567681190014641 MaxCoef 0.5252876225010812 Rnd.GD 1.4861032083043342 St.GD: 1.492875317526593\n",
      "Scaled Max Coef: 1.7404840962133252 MaxCoef 0.4877180175668655 Rnd.GD 1.3512477309883435 St.GD: 1.3518222829557667\n",
      "Scaled Max Coef: 1.7265187644114284 MaxCoef 0.4760509698637675 Rnd.GD 1.232059190459554 St.GD: 1.228965255552696\n",
      "Scaled Max Coef: 1.71427612299752 MaxCoef 0.4728563329954664 Rnd.GD 1.1287685148356792 St.GD: 1.1237597610046604\n",
      "Scaled Max Coef: 1.703386760660611 MaxCoef 0.4721052660032587 Rnd.GD 1.0576209766933806 St.GD: 1.0349981817616782\n",
      "Scaled Max Coef: 1.6935944096510174 MaxCoef 0.4719459363320856 Rnd.GD 0.9891645140642674 St.GD: 0.9609972370429274\n",
      "Scaled Max Coef: 1.6847103195325661 MaxCoef 0.47191397408472524 Rnd.GD 0.9283320487614446 St.GD: 0.8998284755281439\n",
      "Scaled Max Coef: 1.6765903545322465 MaxCoef 0.47190773482117265 Rnd.GD 0.8740800396990523 St.GD: 0.8495288043749352\n",
      "Scaled Max Coef: 1.6691216399323696 MaxCoef 0.47190653208544203 Rnd.GD 0.8287489141489266 St.GD: 0.8082535778343628\n",
      "Scaled Max Coef: 1.6622140435043464 MaxCoef 0.47190630153803415 Rnd.GD 0.7912807460880373 St.GD: 0.7743642939863946\n",
      "Scaled Max Coef: 1.6557944334857975 MaxCoef 0.4719062574553593 Rnd.GD 0.7541347519834614 St.GD: 0.7464621971089362\n",
      "Scaled Max Coef: 1.6498026616254946 MaxCoef 0.47190624903559797 Rnd.GD 0.7303220010369236 St.GD: 0.7233857159581707\n",
      "Scaled Max Coef: 1.6441886739289275 MaxCoef 0.47190624742820025 Rnd.GD 0.7071027501471061 St.GD: 0.7041881121839406\n",
      "Scaled Max Coef: 1.6389103854861589 MaxCoef 0.4719062471213994 Rnd.GD 0.6960881386385439 St.GD: 0.688107055384834\n",
      "Scaled Max Coef: 1.6339320874893597 MaxCoef 0.47190624706284934 Rnd.GD 0.6811591048939384 St.GD: 0.6745331963236112\n",
      "Scaled Max Coef: 1.6292232334255243 MaxCoef 0.4719062470516736 Rnd.GD 0.6714840325798865 St.GD: 0.662981354226815\n",
      "Scaled Max Coef: 1.6247575007197452 MaxCoef 0.4719062470495387 Rnd.GD 0.6610609859628105 St.GD: 0.6530657567214077\n",
      "Scaled Max Coef: 1.620512055912715 MaxCoef 0.4719062470491311 Rnd.GD 0.6490597685059576 St.GD: 0.6444795660643365\n"
     ]
    }
   ],
   "source": [
    "stand_nm = [] # массив для запоминания значений функции в методе Ньютона\n",
    "\n",
    "y = np.ones(d)*size # начальное приближение для оптимальной точки\n",
    "\n",
    "n_of_steps = 10 # количество шагов оптимизации\n",
    "for n_step in range(n_of_steps):\n",
    "    value_stand_nm = f(y) \n",
    "    print('St. NM:', value_stand_nm)\n",
    "    \n",
    "    # далее идет реализация метода Ньютона\n",
    "    stand_nm.append(value_stand_nm)\n",
    "    true_hessian = np.zeros((d,d))\n",
    "    g = np.zeros(d)\n",
    "    for k in range(n):\n",
    "        for j in range(m):\n",
    "            true_hessian += Hessian(y, k, j)/N\n",
    "            g += gradient(y, k, j)/N\n",
    "    y = y - np.linalg.inv(true_hessian).dot(g) \n",
    "\n",
    "x_star = y # решение при помощи метода Ньютона, используем его в качестве эталона\n",
    "f(x_star) # выведем значение в оптимуме\n",
    "\n",
    "max_coef_newton = [] # массив для запоминания значений функции в базовом методе MCNM\n",
    "max_coef_scaled = [] # массив для запоминания значений функции в модифицированном алгоритме SMCNM\n",
    "rand_gd = []         # массив для запоминания значений функции в SGD\n",
    "stand_gd = []        # массив для запоминания значений функции в стандартном GD\n",
    "\n",
    "\n",
    "\n",
    "scaled_max_coef = [] # массив для запоминания количества отправленных бит на каждом шаге SMCNM\n",
    "bits_max_coef = []   # массив для запоминания количества отправленных бит на каждом шаге MCNM\n",
    "bits_rand_gd = []    # массив для запоминания количества отправленных бит на каждом шаге SGD\n",
    "cur_bits_max_coef = 0 # полное число отправленных бит в MCNM\n",
    "cur_bits_rand_gd = 0  # полное число отправленных бит в SGD\n",
    "cur_bits_scaled = 0   # полное число отправленных бит в SMCNM\n",
    "\n",
    "# начальные точки каждого из алгоритмов\n",
    "x = np.ones(d)*size # MCNM\n",
    "z = x              # SMCNM\n",
    "t = x              # SGD\n",
    "q = x              # GD\n",
    "\n",
    "\n",
    "n_of_steps = 20 # количество шагов для каждого из алгоритма\n",
    "for n_step in range(n_of_steps):\n",
    "    value = f(q)\n",
    "    value_max_coef = f(x)\n",
    "    value_stand_nm = f(y) \n",
    "    value_rand_gd = f(z)\n",
    "    value_stand_gd = f(t)\n",
    "    print('Scaled Max Coef:', value, 'MaxCoef', value_max_coef, 'Rnd.GD', value_rand_gd, 'St.GD:', value_stand_gd)\n",
    "    \n",
    "    # реализация SMCNM\n",
    "    max_coef_scaled.append(value)\n",
    "    B = np.zeros((d,d))\n",
    "    g = np.zeros(d)\n",
    "    ans = 0\n",
    "    for k in range(n):\n",
    "        max_coef = 0\n",
    "        for j in range(m):\n",
    "            current_coef = coef_computation(q, k, j)/coef_computation(x_star, k, j)\n",
    "            if current_coef > max_coef:\n",
    "                max_coef = current_coef\n",
    "            g += gradient(q, k, j)/N\n",
    "        for j in range(m):\n",
    "            i = m*k+j\n",
    "            a = A[i]\n",
    "            B += max_coef*coef_computation(x_star, k, j)*a.reshape((d,1)).dot(a.reshape((1,d)))/N\n",
    "    B += mu*np.eye(d)\n",
    "    cur_bits_scaled += 64*n\n",
    "    q = q - np.linalg.inv(B).dot(g)\n",
    "    scaled_max_coef.append(cur_bits_scaled)\n",
    "\n",
    "\n",
    "    # реализация MCNM\n",
    "    max_coef_newton.append(value_max_coef)\n",
    "    B = np.zeros((d,d))\n",
    "    g = np.zeros(d)\n",
    "    ans = 0\n",
    "    for k in range(n):\n",
    "        max_coef = 0\n",
    "        for j in range(m):\n",
    "            current_coef = coef_computation(x, k, j)\n",
    "            if current_coef > max_coef:\n",
    "                max_coef = current_coef\n",
    "            g += gradient(x, k, j)/N\n",
    "        for j in range(m):\n",
    "            i = m*k+j\n",
    "            a = A[i]\n",
    "            B += max_coef*a.reshape((d,1)).dot(a.reshape((1,d)))/N\n",
    "    B += mu*np.eye(d)\n",
    "    cur_bits_max_coef += 64*n\n",
    "    x = x - np.linalg.inv(B).dot(g)\n",
    "    bits_max_coef.append(cur_bits_max_coef)\n",
    "\n",
    "    \n",
    "    # реализация SGD\n",
    "    rand_gd.append(value_rand_gd)\n",
    "    g_global = np.zeros(d)\n",
    "    for k in range(n):\n",
    "        j = np.random.choice(m)\n",
    "        g_global += gradient(z, k, j)/n\n",
    "    cur_bits_rand_gd += 64*n\n",
    "    bits_rand_gd.append(cur_bits_rand_gd)\n",
    "    z = z - 1/L*g_global\n",
    "    \n",
    "    # реализация GD\n",
    "    stand_gd.append(value_stand_gd)\n",
    "    g_global = np.zeros(d)\n",
    "    for k in range(n):\n",
    "        for j in range(m):\n",
    "            g_global += gradient(t, k, j)/N\n",
    "    t = t - 1/L*g_global"
   ]
  },
  {
   "cell_type": "code",
   "execution_count": 44,
   "metadata": {},
   "outputs": [],
   "source": [
    "max_coef_scaled = np.array(max_coef_scaled) - f_optimal\n",
    "stand_gd = np.array(stand_gd) - f_optimal\n",
    "max_coef_newton = np.array(max_coef_newton) - f_optimal\n",
    "stand_nm = np.array(stand_nm) - f_optimal\n",
    "rand_gd = np.array(rand_gd) - f_optimal"
   ]
  },
  {
   "cell_type": "markdown",
   "metadata": {},
   "source": [
    "Если был выбран size=0.15, то запустите ячейку ниже"
   ]
  },
  {
   "cell_type": "code",
   "execution_count": 45,
   "metadata": {},
   "outputs": [
    {
     "data": {
      "image/png": "[encoded data removed]",
      "text/plain": [
       "<Figure size 720x576 with 1 Axes>"
      ]
     },
     "metadata": {
      "needs_background": "light"
     },
     "output_type": "display_data"
    }
   ],
   "source": [
    "plt.figure(figsize=[10, 8])\n",
    "pylab.semilogy(range(len(max_coef_scaled)), max_coef_scaled,\n",
    "               label='scaled max. coefficient Newton')\n",
    "pylab.semilogy(range(len(max_coef_newton)), max_coef_newton, color='darkgreen',\n",
    "               label='max. coefficient Newton')\n",
    "pylab.semilogy(range(len(stand_nm)), stand_nm, color='darkorange',label='standart Newton method')\n",
    "pylab.semilogy(range(len(rand_gd)), rand_gd, color='darkblue',\n",
    "               label='SGD with random coefficient')\n",
    "pylab.semilogy(range(len(stand_gd)), stand_gd, label='GD')\n",
    "\n",
    "plt.xlim([-0.01, 20])\n",
    "#plt.ylim([10**(-20), 1])\n",
    "plt.xlabel('Iteration',fontsize=15)\n",
    "plt.ylabel('$f(x)-f^*$',fontsize=15)\n",
    "plt.title(r'Comparison of methods (a7a dataset, $d = 123, n = 100, N = nm, m = 161, \\mu=0.02, L = \\frac{||A||^2_2}{4})$',fontsize=15)\n",
    "plt.legend(loc=\"best\")\n",
    "plt.minorticks_on()\n",
    "plt.grid(which='major', color='black', alpha =0.3)\n",
    "plt.grid(which='minor', color='grey', alpha=0.2)\n",
    "plt.savefig('a7a_dataset_12222.png')\n",
    "plt.show()"
   ]
  },
  {
   "cell_type": "markdown",
   "metadata": {},
   "source": [
    "Если был выбран size=0.25, запустите ячейку ниже"
   ]
  },
  {
   "cell_type": "code",
   "execution_count": null,
   "metadata": {},
   "outputs": [],
   "source": [
    "plt.figure(figsize=[10, 8])\n",
    "pylab.semilogy(range(len(max_coef_scaled)), max_coef_scaled,\n",
    "               label='scaled max. coefficient Newton')\n",
    "pylab.semilogy(range(len(max_coef_newton)), max_coef_newton, color='darkgreen',\n",
    "               label='max. coefficient Newton')\n",
    "pylab.semilogy(range(len(stand_nm)), stand_nm, color='darkorange',label='standart Newton method')\n",
    "pylab.semilogy(range(len(rand_gd)), rand_gd, color='darkblue',\n",
    "               label='SGD with random coefficient')\n",
    "pylab.semilogy(range(len(stand_gd)), stand_gd, label='GD')\n",
    "\n",
    "plt.xlim([-0.01, 20])\n",
    "#plt.ylim([10**(-20), 1])\n",
    "plt.xlabel('Iteration',fontsize=15)\n",
    "plt.ylabel('$f(x)-f^*$',fontsize=15)\n",
    "plt.title(r'Comparison of methods (a7a dataset, $d = 123, n = 100, N = nm, m = 161, \\mu=0.02, L = \\frac{||A||^2_2}{4})$',fontsize=15)\n",
    "plt.legend(loc=\"best\")\n",
    "plt.minorticks_on()\n",
    "plt.grid(which='major', color='black', alpha =0.3)\n",
    "plt.grid(which='minor', color='grey', alpha=0.2)\n",
    "plt.savefig('a7a_dataset_12222.png')\n",
    "plt.show()"
   ]
  },
  {
   "cell_type": "markdown",
   "metadata": {},
   "source": [
    "Если выбран size=0.32, запустите ячейку ниже"
   ]
  },
  {
   "cell_type": "code",
   "execution_count": null,
   "metadata": {},
   "outputs": [],
   "source": [
    "plt.figure(figsize=[10, 8])\n",
    "pylab.semilogy(range(len(max_coef_scaled)), max_coef_scaled,\n",
    "               label='scaled max. coefficient Newton')\n",
    "pylab.semilogy(range(len(max_coef_newton)), max_coef_newton, color='darkgreen',\n",
    "               label='max. coefficient Newton')\n",
    "pylab.semilogy(range(len(stand_nm)), stand_nm, color='darkorange',label='standart Newton method')\n",
    "pylab.semilogy(range(len(rand_gd)), rand_gd, color='darkblue',\n",
    "               label='SGD with random coefficient')\n",
    "pylab.semilogy(range(len(stand_gd)), stand_gd, label='GD')\n",
    "\n",
    "plt.xlim([-0.01, 20])\n",
    "#plt.ylim([10**(-20), 1])\n",
    "plt.xlabel('Iteration',fontsize=15)\n",
    "plt.ylabel('$f(x)-f^*$',fontsize=15)\n",
    "plt.title(r'Comparison of methods (a7a dataset, $d = 123, n = 100, N = nm, m = 161, \\mu=0.02, L = \\frac{||A||^2_2}{4})$',fontsize=15)\n",
    "plt.legend(loc=\"best\")\n",
    "plt.minorticks_on()\n",
    "plt.grid(which='major', color='black', alpha =0.3)\n",
    "plt.grid(which='minor', color='grey', alpha=0.2)\n",
    "plt.savefig('a7a_dataset_12222.png')\n",
    "plt.show()"
   ]
  },
  {
   "cell_type": "markdown",
   "metadata": {},
   "source": [
    "# Эксперимент на сгенерированном датасэте\n",
    "\n",
    "## Logistic regression"
   ]
  },
  {
   "cell_type": "markdown",
   "metadata": {},
   "source": [
    "Генерация выборки "
   ]
  },
  {
   "cell_type": "code",
   "execution_count": 58,
   "metadata": {},
   "outputs": [],
   "source": [
    "N = 16100            # полное число точек в датасэте\n",
    "n = 100              # число worker-ов\n",
    "m = 161              # размер датасэта каждого worker-а\n",
    "d = 123              # количество признаков (оно же размерность вектора параметра Лог.Регрессии)\n",
    "lmbd = 0.1           # коэффициент при l_2 регуляризаторе\n",
    "mu = lmbd            # коэффициент при l_2 регуляризаторе\n",
    "\n",
    "b = np.random.uniform(-1, 1, (N,)) # вектор меток\n",
    "A = np.random.uniform(-0.1, 0.1, (N, d))# матрица объект-признак\n",
    "\n",
    "mu = lmbd   "
   ]
  },
  {
   "cell_type": "markdown",
   "metadata": {},
   "source": [
    "Вычисление констант функций, необходимых для GD и SGD"
   ]
  },
  {
   "cell_type": "code",
   "execution_count": 59,
   "metadata": {},
   "outputs": [],
   "source": [
    "H = lmbd*np.eye(d)\n",
    "x = np.ones(d)*150\n",
    "for i in range(N):\n",
    "    H += 1/N*(A[i].dot(x)-b[i])**2*A[i].reshape((d,1)).dot(A[i].reshape(1,d))\n",
    "L =np.linalg.eig(H)[0].max()\n",
    "mu = lmbd"
   ]
  },
  {
   "cell_type": "code",
   "execution_count": 60,
   "metadata": {},
   "outputs": [],
   "source": [
    "def f(x): \n",
    "    '''\n",
    "     функция логистической регрессии для всех worker-ов в точке x\n",
    "    '''\n",
    "    ans = 0\n",
    "    for i in range(N):\n",
    "        ans += math.log(1+math.exp(-b[i]*A[i].dot(x)))/N\n",
    "    ans += lmbd/2*np.linalg.norm(x)**2\n",
    "    return ans\n",
    "\n",
    "def Hessian(x, k, j): \n",
    "    '''\n",
    "    функция для вычисления Гессиана в точке x для i-го workera на j-ой точке его датасэта\n",
    "    '''\n",
    "    i = k*m+j\n",
    "    alpha = b[i]**2*math.exp(-b[i]*A[i].dot(x))/(1+math.exp(-b[i]*A[i].dot(x)))**2\n",
    "    ans = lmbd*np.eye(d) + alpha*A[i].reshape((d,1)).dot(A[i].reshape(1,d))\n",
    "    return ans\n",
    "\n",
    "def coef_computation(x, k, j): \n",
    "    '''\n",
    "    функция для вычисления коэффициента, \n",
    "    который стоит перед одноранговой матрицей Гессе для i-го worker-а на j-ой точке его датасэта\n",
    "    '''\n",
    "    i = m*k + j\n",
    "    alpha = b[i]**2*math.exp(-b[i]*A[i].dot(x))/(1+math.exp(-b[i]*A[i].dot(x)))**2\n",
    "    return alpha\n",
    "\n",
    "def gradient(x, k, j): \n",
    "    '''\n",
    "    вычисление градиента для i-го worker-а на j-ой точке его датасэта\n",
    "    '''\n",
    "    i = m*k + j\n",
    "    alpha = -b[i]*math.exp(-b[i]*A[i].dot(x))/(1+math.exp(-b[i]*A[i].dot(x)))\n",
    "    ans = lmbd*x+alpha*A[i]\n",
    "    return ans\n",
    "\n",
    "def coef_comp(x, k, j):\n",
    "    '''\n",
    "    вычисление коэффициента, \n",
    "    который стоит перед градиентом для i-го worker-a \n",
    "    на j-ой точке его датасэта\n",
    "    '''\n",
    "    i = m*k + j\n",
    "    alpha = -b[i]*math.exp(-b[i]*A[i].dot(x))/(1+math.exp(-b[i]*A[i].dot(x)))\n",
    "    return alpha"
   ]
  },
  {
   "cell_type": "markdown",
   "metadata": {},
   "source": [
    "Далее идет реализация метода Ньютона"
   ]
  },
  {
   "cell_type": "code",
   "execution_count": 67,
   "metadata": {},
   "outputs": [
    {
     "name": "stdout",
     "output_type": "stream",
     "text": [
      "St. NM: 0.7550082282351105\n",
      "St. NM: 0.6931377843133939\n",
      "St. NM: 0.6931377843126972\n",
      "St. NM: 0.6931377843126972\n",
      "St. NM: 0.6931377843126972\n",
      "St. NM: 0.6931377843126972\n",
      "St. NM: 0.6931377843126972\n",
      "St. NM: 0.6931377843126972\n",
      "St. NM: 0.6931377843126972\n",
      "St. NM: 0.6931377843126972\n"
     ]
    }
   ],
   "source": [
    "stand_nm = [] # массив для запоминания значений функции в методе Ньютона\n",
    "\n",
    "y = np.ones(d)*0.1 # начальное приближение для оптимальной точки\n",
    "\n",
    "n_of_steps = 10 # количество шагов оптимизации\n",
    "for n_step in range(n_of_steps):\n",
    "    value_stand_nm = f(y) \n",
    "    print('St. NM:', value_stand_nm)\n",
    "    \n",
    "    # далее идет реализация метода Ньютона\n",
    "    stand_nm.append(value_stand_nm)\n",
    "    true_hessian = np.zeros((d,d))\n",
    "    g = np.zeros(d)\n",
    "    for k in range(n):\n",
    "        for j in range(m):\n",
    "            true_hessian += Hessian(y, k, j)/N\n",
    "            g += gradient(y, k, j)/N\n",
    "    y = y - np.linalg.inv(true_hessian).dot(g) "
   ]
  },
  {
   "cell_type": "code",
   "execution_count": 68,
   "metadata": {},
   "outputs": [
    {
     "data": {
      "text/plain": [
       "0.6931377843126972"
      ]
     },
     "execution_count": 68,
     "metadata": {},
     "output_type": "execute_result"
    }
   ],
   "source": [
    "y_star = y # решение при помощи метода Ньютона, используем его в качестве эталона\n",
    "f_optimal = f(x_star) # выведем значение в оптимуме\n",
    "f_optimal"
   ]
  },
  {
   "cell_type": "markdown",
   "metadata": {},
   "source": [
    "Далее идет реализация всех остальных методов"
   ]
  },
  {
   "cell_type": "code",
   "execution_count": 69,
   "metadata": {},
   "outputs": [
    {
     "name": "stdout",
     "output_type": "stream",
     "text": [
      "Scaled Max Coef: 0.7550082282351105 MaxCoef 0.7550082282351105 St. NM: 0.6931377843126972 Rnd.GD 0.7550082282351105 St.GD: 0.7550082282351105\n",
      "Scaled Max Coef: 0.6931377843128717 MaxCoef 0.693139661323706 St. NM: 0.6931377843126972 Rnd.GD 0.7548756228448493 St.GD: 0.7548763801647334\n",
      "Scaled Max Coef: 0.6931377843126972 MaxCoef 0.6931377843715801 St. NM: 0.6931377843126972 Rnd.GD 0.7547432380224292 St.GD: 0.75474481306652\n",
      "Scaled Max Coef: 0.6931377843126972 MaxCoef 0.6931377843126993 St. NM: 0.6931377843126972 Rnd.GD 0.7546119644790567 St.GD: 0.7546135263417201\n",
      "Scaled Max Coef: 0.6931377843126972 MaxCoef 0.6931377843127017 St. NM: 0.6931377843126972 Rnd.GD 0.7544791878934202 St.GD: 0.7544825193928517\n",
      "Scaled Max Coef: 0.6931377843126972 MaxCoef 0.6931377843126968 St. NM: 0.6931377843126972 Rnd.GD 0.7543506906911684 St.GD: 0.7543517916237067\n",
      "Scaled Max Coef: 0.6931377843126972 MaxCoef 0.6931377843126975 St. NM: 0.6931377843126972 Rnd.GD 0.7542219016707447 St.GD: 0.7542213424393431\n",
      "Scaled Max Coef: 0.6931377843126972 MaxCoef 0.6931377843126972 St. NM: 0.6931377843126972 Rnd.GD 0.7540923497440672 St.GD: 0.7540911712460906\n",
      "Scaled Max Coef: 0.6931377843126972 MaxCoef 0.6931377843126972 St. NM: 0.6931377843126972 Rnd.GD 0.7539599375922198 St.GD: 0.7539612774515612\n",
      "Scaled Max Coef: 0.6931377843126972 MaxCoef 0.6931377843126972 St. NM: 0.6931377843126972 Rnd.GD 0.7538295910541868 St.GD: 0.7538316604646029\n",
      "Scaled Max Coef: 0.6931377843126972 MaxCoef 0.6931377843126972 St. NM: 0.6931377843126972 Rnd.GD 0.7537005562198719 St.GD: 0.7537023196953181\n",
      "Scaled Max Coef: 0.6931377843126972 MaxCoef 0.6931377843126972 St. NM: 0.6931377843126972 Rnd.GD 0.7535672303211962 St.GD: 0.7535732545550999\n",
      "Scaled Max Coef: 0.6931377843126972 MaxCoef 0.6931377843126972 St. NM: 0.6931377843126972 Rnd.GD 0.753436666664649 St.GD: 0.7534444644565745\n",
      "Scaled Max Coef: 0.6931377843126972 MaxCoef 0.6931377843126972 St. NM: 0.6931377843126972 Rnd.GD 0.7533052258888325 St.GD: 0.7533159488136163\n",
      "Scaled Max Coef: 0.6931377843126972 MaxCoef 0.6931377843126972 St. NM: 0.6931377843126972 Rnd.GD 0.7531770868122473 St.GD: 0.7531877070413617\n",
      "Scaled Max Coef: 0.6931377843126972 MaxCoef 0.6931377843126972 St. NM: 0.6931377843126972 Rnd.GD 0.7530487715392981 St.GD: 0.7530597385561788\n",
      "Scaled Max Coef: 0.6931377843126972 MaxCoef 0.6931377843126972 St. NM: 0.6931377843126972 Rnd.GD 0.7529205285075922 St.GD: 0.7529320427756887\n",
      "Scaled Max Coef: 0.6931377843126972 MaxCoef 0.6931377843126972 St. NM: 0.6931377843126972 Rnd.GD 0.7527923127851037 St.GD: 0.7528046191187606\n",
      "Scaled Max Coef: 0.6931377843126972 MaxCoef 0.6931377843126972 St. NM: 0.6931377843126972 Rnd.GD 0.752664967085088 St.GD: 0.7526774670054894\n",
      "Scaled Max Coef: 0.6931377843126972 MaxCoef 0.6931377843126972 St. NM: 0.6931377843126972 Rnd.GD 0.7525402343871372 St.GD: 0.7525505858572131\n"
     ]
    }
   ],
   "source": [
    "max_coef_newton = [] # массив для запоминания значений функции в базовом методе MCNM\n",
    "max_coef_scaled = [] # массив для запоминания значений функции в модифицированном алгоритме SMCNM\n",
    "rand_gd = []         # массив для запоминания значений функции в SGD\n",
    "stand_gd = []        # массив для запоминания значений функции в стандартном GD\n",
    "\n",
    "\n",
    "\n",
    "scaled_max_coef = [] # массив для запоминания количества отправленных бит на каждом шаге SMCNM\n",
    "bits_max_coef = []   # массив для запоминания количества отправленных бит на каждом шаге MCNM\n",
    "bits_rand_gd = []    # массив для запоминания количества отправленных бит на каждом шаге SGD\n",
    "cur_bits_max_coef = 0 # полное число отправленных бит в MCNM\n",
    "cur_bits_rand_gd = 0  # полное число отправленных бит в SGD\n",
    "cur_bits_scaled = 0   # полное число отправленных бит в SMCNM\n",
    "\n",
    "# начальные точки каждого из алгоритмов\n",
    "x = np.ones(d)*0.1 # MCNM\n",
    "z = x              # SMCNM\n",
    "t = x              # SGD\n",
    "q=x                # GD\n",
    "\n",
    "\n",
    "n_of_steps = 20 # количество шагов для каждого из алгоритма\n",
    "for n_step in range(n_of_steps):\n",
    "    value = f(q)\n",
    "    value_max_coef = f(x)\n",
    "    value_stand_nm = f(y) \n",
    "    value_rand_gd = f(z)\n",
    "    value_stand_gd = f(t)\n",
    "    print('Scaled Max Coef:', value, 'MaxCoef', value_max_coef, \\\n",
    "          'St. NM:', value_stand_nm, 'Rnd.GD', value_rand_gd, 'St.GD:', value_stand_gd)\n",
    "    \n",
    "    # реализация SMCNM\n",
    "    max_coef_scaled.append(value)\n",
    "    B = np.zeros((d,d))\n",
    "    g = np.zeros(d)\n",
    "    ans = 0\n",
    "    for k in range(n):\n",
    "        max_coef = 0\n",
    "        for j in range(m):\n",
    "            current_coef = coef_computation(q, k, j)/coef_computation(y_star, k, j)\n",
    "            if current_coef > max_coef:\n",
    "                max_coef = current_coef\n",
    "            g += gradient(q, k, j)/N\n",
    "        for j in range(m):\n",
    "            i = m*k+j\n",
    "            a = A[i]\n",
    "            B += max_coef*coef_computation(y_star, k, j)*a.reshape((d,1)).dot(a.reshape((1,d)))/N\n",
    "    B += mu*np.eye(d)\n",
    "    cur_bits_scaled += 64*n\n",
    "    q = q - np.linalg.inv(B).dot(g)\n",
    "    scaled_max_coef.append(cur_bits_scaled)\n",
    "\n",
    "\n",
    "    # реализация MCNM\n",
    "    max_coef_newton.append(value_max_coef)\n",
    "    B = np.zeros((d,d))\n",
    "    g = np.zeros(d)\n",
    "    ans = 0\n",
    "    for k in range(n):\n",
    "        max_coef = 0\n",
    "        for j in range(m):\n",
    "            current_coef = coef_computation(x, k, j)\n",
    "            if current_coef > max_coef:\n",
    "                max_coef = current_coef\n",
    "            g += gradient(x, k, j)/N\n",
    "        for j in range(m):\n",
    "            i = m*k+j\n",
    "            a = A[i]\n",
    "            B += max_coef*a.reshape((d,1)).dot(a.reshape((1,d)))/N\n",
    "    B += mu*np.eye(d)\n",
    "    cur_bits_max_coef += 64*n\n",
    "    x = x - np.linalg.inv(B).dot(g)\n",
    "    bits_max_coef.append(cur_bits_max_coef)\n",
    "    \n",
    "    # реализация SGD\n",
    "    rand_gd.append(value_rand_gd)\n",
    "    g_global = np.zeros(d)\n",
    "    for k in range(n):\n",
    "        j = np.random.choice(m)\n",
    "        g_global += gradient(z, k, j)/n\n",
    "    cur_bits_rand_gd += 64*n\n",
    "    bits_rand_gd.append(cur_bits_rand_gd)\n",
    "    z = z - 1/L*g_global\n",
    "    \n",
    "    # реализация GD\n",
    "    stand_gd.append(value_stand_gd)\n",
    "    g_global = np.zeros(d)\n",
    "    for k in range(n):\n",
    "        for j in range(m):\n",
    "            g_global += gradient(t, k, j)/N\n",
    "    t = t - 1/L*g_global"
   ]
  },
  {
   "cell_type": "markdown",
   "metadata": {},
   "source": [
    "Сдвиг значений функция относительн оптимального"
   ]
  },
  {
   "cell_type": "code",
   "execution_count": 70,
   "metadata": {},
   "outputs": [],
   "source": [
    "max_coef_scaled = np.array(max_coef_scaled) - f_optimal\n",
    "stand_gd = np.array(stand_gd) - f_optimal\n",
    "max_coef_newton = np.array(max_coef_newton) - f_optimal\n",
    "stand_nm = np.array(stand_nm) - f_optimal\n",
    "rand_gd = np.array(rand_gd) - f_optimal"
   ]
  },
  {
   "cell_type": "code",
   "execution_count": 71,
   "metadata": {},
   "outputs": [
    {
     "data": {
      "image/png": "[encoded data removed]",
      "text/plain": [
       "<Figure size 720x576 with 1 Axes>"
      ]
     },
     "metadata": {
      "needs_background": "light"
     },
     "output_type": "display_data"
    }
   ],
   "source": [
    "plt.figure(figsize=[10, 8])\n",
    "pylab.semilogy(range(len(max_coef_scaled)), max_coef_scaled,\n",
    "               label='scaled max. coefficient Newton')\n",
    "pylab.semilogy(range(len(max_coef_newton)), max_coef_newton, color='darkgreen',\n",
    "               label='max. coefficient Newton')\n",
    "pylab.semilogy(range(len(stand_nm)), stand_nm, color='darkorange',label='standart Newton method')\n",
    "pylab.semilogy(range(len(rand_gd)), rand_gd, color='darkblue',\n",
    "               label='SGD with random coefficient')\n",
    "pylab.semilogy(range(len(stand_gd)), stand_gd, label='GD')\n",
    "\n",
    "plt.xlim([-0.01, 20])\n",
    "#plt.ylim([10**(-20), 1])\n",
    "plt.xlabel('Iteration',fontsize=15)\n",
    "plt.ylabel('$f(x)-f^*$',fontsize=15)\n",
    "plt.title(r'Comparison of methods (a7a dataset, $d = 123, n = 100, N = nm, m = 161, \\mu=0.02, L = \\frac{||A||^2_2}{4})$',fontsize=15)\n",
    "plt.legend(loc=\"best\")\n",
    "plt.minorticks_on()\n",
    "plt.grid(which='major', color='black', alpha =0.3)\n",
    "plt.grid(which='minor', color='grey', alpha=0.2)\n",
    "plt.savefig('a7a_dataset_12.png')\n",
    "plt.show()"
   ]
  },
  {
   "cell_type": "markdown",
   "metadata": {},
   "source": [
    "**Вывод:** данные эксперименты показывают, что придуманные алгоритмы второго порядка превосходят в работе методы первого порядка, что мотивирует для дальнейшей работы в этом направлении"
   ]
  },
  {
   "cell_type": "code",
   "execution_count": null,
   "metadata": {},
   "outputs": [],
   "source": []
  }
 ],
 "metadata": {
  "kernelspec": {
   "display_name": "Python 3",
   "language": "python",
   "name": "python3"
  },
  "language_info": {
   "codemirror_mode": {
    "name": "ipython",
    "version": 3
   },
   "file_extension": ".py",
   "mimetype": "text/x-python",
   "name": "python",
   "nbconvert_exporter": "python",
   "pygments_lexer": "ipython3",
   "version": "3.8.3"
  }
 },
 "nbformat": 4,
 "nbformat_minor": 4
}
